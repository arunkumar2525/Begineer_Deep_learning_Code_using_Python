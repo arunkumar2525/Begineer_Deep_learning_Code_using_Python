{
  "nbformat": 4,
  "nbformat_minor": 0,
  "metadata": {
    "colab": {
      "name": "Evaluate Improve And Tuning Recurrent Neural Network.ipynb",
      "provenance": [],
      "collapsed_sections": []
    },
    "kernelspec": {
      "name": "python3",
      "display_name": "Python 3"
    }
  },
  "cells": [
    {
      "cell_type": "code",
      "metadata": {
        "id": "b4TtTVDI_Gcd",
        "colab_type": "code",
        "colab": {}
      },
      "source": [
        "# Tuning The Recurrent Neural Network To Improve Performance Of An Algorithm"
      ],
      "execution_count": 0,
      "outputs": []
    },
    {
      "cell_type": "code",
      "metadata": {
        "id": "t_ccS7kK_Uje",
        "colab_type": "code",
        "colab": {}
      },
      "source": [
        "# Importing the Google Stock Price Train Dataset\n",
        "  import pandas as pd\n",
        "  dataset_train=pd.read_csv('/content/sample_data/Google_Stock_Price_Train.csv')\n",
        "\n",
        "  # Splitting the dataset_train into input attribute only\n",
        "  train_set=dataset_train.iloc[:,1:2].values\n",
        "  \n",
        "  # Rescale the train_set google stock price open amount (input attribute) using minmaxscaler class\n",
        "  from sklearn.preprocessing import MinMaxScaler\n",
        "  sc=MinMaxScaler()\n",
        "  train_set_scaled=sc.fit_transform(train_set)\n"
      ],
      "execution_count": 0,
      "outputs": []
    },
    {
      "cell_type": "code",
      "metadata": {
        "id": "b-TqpZgX_XHd",
        "colab_type": "code",
        "colab": {}
      },
      "source": [
        "from keras.wrappers.scikit_learn import KerasRegressor\n",
        "from keras.models import Sequential\n",
        "from keras.layers import LSTM\n",
        "from keras.layers import Dropout\n",
        "\n",
        "x_train=[]\n",
        "y_train=[]\n",
        "  \n",
        "# split the Google Stock Price into 60 Timesets and evalute t+1 on train set\n",
        "for i in range(60,len(train_set)):\n",
        "   x_train.append(train_set_scaled[i-60:i,])\n",
        "   y_train.append(train_set_scaled[i,])\n",
        "# converting numpy vector to numpy array\n",
        "import numpy as np\n",
        "x_train,y_train=np.array(x_train),np.array(y_train)\n",
        "# reshape x_train from 2D to 3D Array\n",
        "x_train=np.reshape(x_train,(x_train.shape[0],x_train.shape[1],1)) \n",
        "\n",
        "def build_rnn(optimizer):\n",
        "   \n",
        "\n",
        "  # Building RNN Algorithm\n",
        "\n",
        "  # Intialising The RNN Network\n",
        "\n",
        "  rnn=Sequential()\n",
        "\n",
        "  # Adding First LSTM Layer and Dropout Regularisation\n",
        "  rnn.add(LSTM(units=50,return_sequences=True,input_shape=(x_train.shape[1],1)))\n",
        "  rnn.add(Dropout(p=0.2))\n",
        "\n",
        "  # Adding Second LSTM Layer and Dropout Regularisation\n",
        "  rnn.add(LSTM(units=50,return_sequences=True))\n",
        "  rnn.add(Dropout(p=0.2))\n",
        "\n",
        "  # Adding Third LSTM Layer and Dropout Regularisation\n",
        "  rnn.add(LSTM(units=50,return_sequences=True))\n",
        "  rnn.add(Dropout(p=0.2))\n",
        "\n",
        "  # Adding Fourth LSTM Layer and Dropout Regularisation\n",
        "  rnn.add(LSTM(units=50,return_sequences=True))\n",
        "  rnn.add(Dropout(p=0.2))\n",
        "\n",
        "  # Adding Fifth LSTM Layer and Dropout Regularisation\n",
        "  rnn.add(LSTM(units=50))\n",
        "  rnn.add(Dropout(p=0.2))\n",
        "\n",
        "  # Adding Output Layer\n",
        "  from keras.layers import Dense\n",
        "  rnn.add(Dense(units=1))\n",
        "\n",
        "  # Compile the RNN Algorithm\n",
        "  rnn.compile(optimizer=optimizer,loss='mean_squared_error')\n",
        "  return rnn"
      ],
      "execution_count": 0,
      "outputs": []
    },
    {
      "cell_type": "code",
      "metadata": {
        "id": "6IDz4WLS_bKs",
        "colab_type": "code",
        "colab": {
          "base_uri": "https://localhost:8080/",
          "height": 193
        },
        "outputId": "bccf0ba3-0b96-401d-d9ea-5f29043c66a8"
      },
      "source": [
        "# Evaluating and Tuning the RNN Algorithm\n",
        "rnn=KerasRegressor(build_fn=build_rnn)\n",
        "params={'optimizer':['adam','rmsprop'],\n",
        "        'nb_epoch':[25,50,75,100],\n",
        "        'batch_size':[8,16,32,64]}\n",
        "# Tuning using GridSearchCV class\n",
        "from sklearn.model_selection import GridSearchCV\n",
        "results=GridSearchCV(estimator=rnn,param_grid=params,cv=10,n_jobs=-1,scoring='neg_mean_squared_error')\n",
        "grid_search=results.fit(x_train,y_train)"
      ],
      "execution_count": 14,
      "outputs": [
        {
          "output_type": "stream",
          "text": [
            "/usr/local/lib/python3.6/dist-packages/joblib/externals/loky/process_executor.py:706: UserWarning: A worker stopped while some jobs were given to the executor. This can be caused by a too short worker timeout or by a memory leak.\n",
            "  \"timeout or by a memory leak.\", UserWarning\n",
            "/usr/local/lib/python3.6/dist-packages/ipykernel_launcher.py:30: UserWarning: Update your `Dropout` call to the Keras 2 API: `Dropout(rate=0.2)`\n",
            "/usr/local/lib/python3.6/dist-packages/ipykernel_launcher.py:34: UserWarning: Update your `Dropout` call to the Keras 2 API: `Dropout(rate=0.2)`\n",
            "/usr/local/lib/python3.6/dist-packages/ipykernel_launcher.py:38: UserWarning: Update your `Dropout` call to the Keras 2 API: `Dropout(rate=0.2)`\n",
            "/usr/local/lib/python3.6/dist-packages/ipykernel_launcher.py:42: UserWarning: Update your `Dropout` call to the Keras 2 API: `Dropout(rate=0.2)`\n",
            "/usr/local/lib/python3.6/dist-packages/ipykernel_launcher.py:46: UserWarning: Update your `Dropout` call to the Keras 2 API: `Dropout(rate=0.2)`\n"
          ],
          "name": "stderr"
        },
        {
          "output_type": "stream",
          "text": [
            "Epoch 1/1\n",
            "1198/1198 [==============================] - 20s 17ms/step - loss: 0.0321\n"
          ],
          "name": "stdout"
        }
      ]
    },
    {
      "cell_type": "code",
      "metadata": {
        "id": "Pi7Wxxh7cTEU",
        "colab_type": "code",
        "colab": {
          "base_uri": "https://localhost:8080/",
          "height": 52
        },
        "outputId": "862aed87-e5c9-4185-99f6-f062fca35a91"
      },
      "source": [
        "best_parameter=grid_search.best_params_\n",
        "best_accuracy=grid_search.best_score_\n",
        "print(best_parameter)\n",
        "print(best_accuracy)"
      ],
      "execution_count": 15,
      "outputs": [
        {
          "output_type": "stream",
          "text": [
            "{'batch_size': 16, 'nb_epoch': 75, 'optimizer': 'adam'}\n",
            "-0.002678882889088137\n"
          ],
          "name": "stdout"
        }
      ]
    },
    {
      "cell_type": "code",
      "metadata": {
        "id": "5PrQ1-sTcpfJ",
        "colab_type": "code",
        "colab": {}
      },
      "source": [
        "# Above Ouput is the Best Combination for batch_size nb_epoch and optimizer"
      ],
      "execution_count": 0,
      "outputs": []
    }
  ]
}