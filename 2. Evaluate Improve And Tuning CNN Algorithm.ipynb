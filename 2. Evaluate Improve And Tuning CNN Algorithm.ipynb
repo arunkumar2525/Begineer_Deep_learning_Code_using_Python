{
 "cells": [
  {
   "cell_type": "code",
   "execution_count": 6,
   "metadata": {},
   "outputs": [],
   "source": [
    "from keras.layers import Dropout\n",
    "def build_cnn(Dropout,optimizer):\n",
    "    \n",
    "    # Step-1 Create Convolutional Layers\n",
    "    from keras.models import Sequential\n",
    "    from keras.layers import Convolution2D\n",
    "    cnn=Sequential()\n",
    "    cnn.add(Convolution2D(32,3,3,input_shape=(64,64,3),activation='relu'))\n",
    "    \n",
    "    # Step -2 Create Polling Layers\n",
    "    from keras.layers import MaxPooling2D\n",
    "    cnn.add(MaxPooling2D(pool_size=(2,2)))\n",
    "    \n",
    "    # Create Second convolution layer to get better accuracy for test set\n",
    "    cnn.add(Convolution2D(32,3,3,activation='relu'))\n",
    "    cnn.add(MaxPooling2D(pool_size=(2,2)))\n",
    "    \n",
    "    # Step-3 Create flatten to pooled layer\n",
    "    from keras.layers import Flatten\n",
    "    cnn.add(Flatten())\n",
    "    \n",
    "    # Step-4 Fully Connection Layer\n",
    "    from keras.layers import Dense\n",
    "    \n",
    "    # First Fully connected hidden layer\n",
    "    cnn.add(Dense(output_dim=128,activation='relu'))\n",
    "    cnn.add(Dropout(p=Dropout))\n",
    "    # Second Fully Connected hidden layer\n",
    "    cnn.add(Dense(output_dim=128,activation='relu'))\n",
    "    cnn.add(Dropout(p=Dropout))\n",
    "    # Output layer\n",
    "    cnn.add(Dense(output_dim=1,activation='sigmoid'))\n",
    "    \n",
    "    # Compile the CNN\n",
    "    cnn.compile(optimizer=optimizer,loss='binary_crossentropy',metrics=['accuracy'])\n",
    "    return cnn"
   ]
  },
  {
   "cell_type": "code",
   "execution_count": 7,
   "metadata": {},
   "outputs": [],
   "source": [
    "# Tunning and imporving CNN using hyper parameter combination\n",
    "\n",
    "from keras.wrappers.scikit_learn import KerasClassifier\n",
    "from sklearn.model_selection import GridSearchCV\n",
    "cnn=KerasClassifier(build_fn=build_cnn)\n",
    "params={'optimizer':['adam','rmsprop'],\n",
    "        'Dropout':[0.1,0.2,0.3,0.4],\n",
    "       'batch_size':[10,20,30,40],\n",
    "       'nb_epoch':[25,35,45,50]}\n",
    "results=GridSearchCV(estimator=cnn,\n",
    "                    param_grid=params,\n",
    "                    cv=10)"
   ]
  },
  {
   "cell_type": "code",
   "execution_count": 8,
   "metadata": {},
   "outputs": [
    {
     "name": "stdout",
     "output_type": "stream",
     "text": [
      "Found 8000 images belonging to 2 classes.\n",
      "Found 2000 images belonging to 2 classes.\n"
     ]
    },
    {
     "ename": "AttributeError",
     "evalue": "'KerasClassifier' object has no attribute 'fit_generator'",
     "output_type": "error",
     "traceback": [
      "\u001b[1;31m---------------------------------------------------------------------------\u001b[0m",
      "\u001b[1;31mAttributeError\u001b[0m                            Traceback (most recent call last)",
      "\u001b[1;32m<ipython-input-8-8ae042899bf0>\u001b[0m in \u001b[0;36m<module>\u001b[1;34m\u001b[0m\n\u001b[0;32m     14\u001b[0m                                            \u001b[0mbatch_size\u001b[0m\u001b[1;33m=\u001b[0m\u001b[1;36m25\u001b[0m\u001b[1;33m,\u001b[0m\u001b[1;33m\u001b[0m\u001b[1;33m\u001b[0m\u001b[0m\n\u001b[0;32m     15\u001b[0m                                            class_mode='binary')\n\u001b[1;32m---> 16\u001b[1;33m grid_search=cnn.fit_generator(training_set,\n\u001b[0m\u001b[0;32m     17\u001b[0m                                   \u001b[1;31m#training set data size\u001b[0m\u001b[1;33m\u001b[0m\u001b[1;33m\u001b[0m\u001b[1;33m\u001b[0m\u001b[0m\n\u001b[0;32m     18\u001b[0m                                   \u001b[0msamples_per_epoch\u001b[0m\u001b[1;33m=\u001b[0m\u001b[1;36m8000\u001b[0m\u001b[1;33m,\u001b[0m\u001b[1;33m\u001b[0m\u001b[1;33m\u001b[0m\u001b[0m\n",
      "\u001b[1;31mAttributeError\u001b[0m: 'KerasClassifier' object has no attribute 'fit_generator'"
     ]
    }
   ],
   "source": [
    "    from keras.preprocessing.image import ImageDataGenerator\n",
    "    train_datagen=ImageDataGenerator(rescale=1./255,\n",
    "                                     shear_range=0.2,\n",
    "                                     zoom_range=0.2,\n",
    "                                     horizontal_flip=True)\n",
    "    test_datagen=ImageDataGenerator(rescale=1./255)\n",
    "    training_set=train_datagen.flow_from_directory('dataset/training_set',\n",
    "                                                    # Target size should match with input_dim of convolution layer\n",
    "                                                    target_size=(64,64),\n",
    "                                                    batch_size=32,\n",
    "                                                    class_mode='binary')\n",
    "    test_set=test_datagen.flow_from_directory('dataset/test_set',\n",
    "                                               target_size=(64,64),\n",
    "                                               batch_size=25,\n",
    "                                               class_mode='binary')\n",
    "    grid_search=cnn.fit_generator(training_set,\n",
    "                                      #training set data size\n",
    "                                      samples_per_epoch=8000,\n",
    "                                      nb_epoch=nb_epoch,\n",
    "                                      validation_data=test_set,\n",
    "                                      nb_val_samples=2000)\n",
    "    best_parameter=grid_search.best_params_\n",
    "    best_accuracy=grid_search.best_score_\n",
    "    print(best_parameter)\n",
    "    print(best_accuracy)"
   ]
  },
  {
   "cell_type": "code",
   "execution_count": null,
   "metadata": {},
   "outputs": [],
   "source": []
  }
 ],
 "metadata": {
  "kernelspec": {
   "display_name": "Python 3",
   "language": "python",
   "name": "python3"
  },
  "language_info": {
   "codemirror_mode": {
    "name": "ipython",
    "version": 3
   },
   "file_extension": ".py",
   "mimetype": "text/x-python",
   "name": "python",
   "nbconvert_exporter": "python",
   "pygments_lexer": "ipython3",
   "version": "3.7.4"
  }
 },
 "nbformat": 4,
 "nbformat_minor": 2
}
