{
 "cells": [
  {
   "cell_type": "code",
   "execution_count": 11,
   "metadata": {
    "colab": {
     "base_uri": "https://localhost:8080/",
     "height": 104
    },
    "colab_type": "code",
    "id": "gE5p74NeZ0Jp",
    "outputId": "32b910e6-c1a3-4b7f-eced-fcfef456885d"
   },
   "outputs": [
    {
     "name": "stdout",
     "output_type": "stream",
     "text": [
      "       Date    Open    High     Low   Close     Volume\n",
      "0  1/3/2012  325.25  332.83  324.97  663.59  7,380,500\n",
      "1  1/4/2012  331.27  333.87  329.08  666.45  5,749,400\n",
      "2  1/5/2012  329.83  330.75  326.89  657.21  6,590,300\n",
      "3  1/6/2012  328.34  328.77  323.68  648.24  5,405,900\n"
     ]
    }
   ],
   "source": [
    "# Building Recurrent Neural Network Algorithm For Google Stock Price Dataset\n",
    "import pandas as pd\n",
    "dataset=pd.read_csv('/content/sample_data/Google_Stock_Price_Train.csv')\n",
    "print(dataset.head(4))"
   ]
  },
  {
   "cell_type": "code",
   "execution_count": 12,
   "metadata": {
    "colab": {
     "base_uri": "https://localhost:8080/",
     "height": 104
    },
    "colab_type": "code",
    "id": "SuSCLHlcClOo",
    "outputId": "94ff22d4-2ecb-4fdd-e80e-01bec0292913"
   },
   "outputs": [
    {
     "name": "stdout",
     "output_type": "stream",
     "text": [
      "[[325.25]\n",
      " [331.27]\n",
      " [329.83]\n",
      " [328.34]\n",
      " [322.04]]\n"
     ]
    }
   ],
   "source": [
    "# Split the train_set into indepedent input attribute\n",
    "train_set=dataset.iloc[:,1:2].values\n",
    "print(train_set[0:5,])"
   ]
  },
  {
   "cell_type": "code",
   "execution_count": 13,
   "metadata": {
    "colab": {
     "base_uri": "https://localhost:8080/",
     "height": 104
    },
    "colab_type": "code",
    "id": "cgHqChULDlbA",
    "outputId": "54f423fb-952a-4881-b6e6-1cd30bc31149"
   },
   "outputs": [
    {
     "name": "stdout",
     "output_type": "stream",
     "text": [
      "[[0.08581368]\n",
      " [0.09701243]\n",
      " [0.09433366]\n",
      " [0.09156187]\n",
      " [0.07984225]]\n"
     ]
    }
   ],
   "source": [
    "# Rescale the input attribute \n",
    "from sklearn.preprocessing import MinMaxScaler\n",
    "sc=MinMaxScaler(feature_range=(0,1))\n",
    "train_set_scaled=sc.fit_transform(train_set)\n",
    "print(train_set_scaled[0:5,])"
   ]
  },
  {
   "cell_type": "code",
   "execution_count": 18,
   "metadata": {
    "colab": {
     "base_uri": "https://localhost:8080/",
     "height": 35
    },
    "colab_type": "code",
    "id": "3XcO70DlEGi9",
    "outputId": "c5e9ab6d-6eef-49cc-e896-bf701d585b4a"
   },
   "outputs": [
    {
     "name": "stdout",
     "output_type": "stream",
     "text": [
      "1258\n"
     ]
    }
   ],
   "source": [
    "# Create a dataset structure  with 60 timesteps and 1 output\n",
    "import numpy as np\n",
    "x_train=[]\n",
    "y_train=[]\n",
    "print(len(train_set))\n",
    "for i in range(60,len(train_set)):\n",
    "  x_train.append(train_set_scaled[i-60:i,])\n",
    "  y_train.append(train_set_scaled[i,])\n",
    "# Converting Vector to numpy array or array of matrix\n",
    "x_train,y_train=np.array(x_train),np.array(y_train)"
   ]
  },
  {
   "cell_type": "code",
   "execution_count": 0,
   "metadata": {
    "colab": {},
    "colab_type": "code",
    "id": "5LISU4x7NmO4"
   },
   "outputs": [],
   "source": [
    "# Resampling X_train from 2d numpy array to 3d numpy array\n",
    "# batchsize= No.of Row in a column of dataset making as x_train.shape[0]\n",
    "# timesteps = No. of columns in a row to get that is x_train.shape[1]\n",
    "# input_dim= No. of input dims are 1\n",
    "x_train=np.reshape(x_train,(x_train.shape[0],x_train.shape[1],1))"
   ]
  },
  {
   "cell_type": "code",
   "execution_count": 21,
   "metadata": {
    "colab": {
     "base_uri": "https://localhost:8080/",
     "height": 1000
    },
    "colab_type": "code",
    "id": "wKcpAgHPQ5TB",
    "outputId": "52258a1e-cf6a-4168-ece5-dfd5d9d83c94"
   },
   "outputs": [
    {
     "name": "stdout",
     "output_type": "stream",
     "text": [
      "WARNING:tensorflow:From /usr/local/lib/python3.6/dist-packages/keras/backend/tensorflow_backend.py:541: The name tf.placeholder is deprecated. Please use tf.compat.v1.placeholder instead.\n",
      "\n",
      "WARNING:tensorflow:From /usr/local/lib/python3.6/dist-packages/keras/backend/tensorflow_backend.py:4432: The name tf.random_uniform is deprecated. Please use tf.random.uniform instead.\n",
      "\n",
      "WARNING:tensorflow:From /usr/local/lib/python3.6/dist-packages/keras/backend/tensorflow_backend.py:148: The name tf.placeholder_with_default is deprecated. Please use tf.compat.v1.placeholder_with_default instead.\n",
      "\n",
      "WARNING:tensorflow:From /usr/local/lib/python3.6/dist-packages/keras/backend/tensorflow_backend.py:3733: calling dropout (from tensorflow.python.ops.nn_ops) with keep_prob is deprecated and will be removed in a future version.\n",
      "Instructions for updating:\n",
      "Please use `rate` instead of `keep_prob`. Rate should be set to `rate = 1 - keep_prob`.\n"
     ]
    },
    {
     "name": "stderr",
     "output_type": "stream",
     "text": [
      "/usr/local/lib/python3.6/dist-packages/ipykernel_launcher.py:13: UserWarning: Update your `Dropout` call to the Keras 2 API: `Dropout(rate=0.2)`\n",
      "  del sys.path[0]\n",
      "/usr/local/lib/python3.6/dist-packages/ipykernel_launcher.py:17: UserWarning: Update your `Dropout` call to the Keras 2 API: `Dropout(rate=0.2)`\n"
     ]
    },
    {
     "name": "stdout",
     "output_type": "stream",
     "text": [
      "WARNING:tensorflow:From /usr/local/lib/python3.6/dist-packages/keras/optimizers.py:793: The name tf.train.Optimizer is deprecated. Please use tf.compat.v1.train.Optimizer instead.\n",
      "\n"
     ]
    },
    {
     "name": "stderr",
     "output_type": "stream",
     "text": [
      "/usr/local/lib/python3.6/dist-packages/ipykernel_launcher.py:22: UserWarning: Update your `Dropout` call to the Keras 2 API: `Dropout(rate=0.2)`\n"
     ]
    },
    {
     "name": "stdout",
     "output_type": "stream",
     "text": [
      "WARNING:tensorflow:From /usr/local/lib/python3.6/dist-packages/tensorflow_core/python/ops/math_grad.py:1424: where (from tensorflow.python.ops.array_ops) is deprecated and will be removed in a future version.\n",
      "Instructions for updating:\n",
      "Use tf.where in 2.0, which has the same broadcast rule as np.where\n",
      "WARNING:tensorflow:From /usr/local/lib/python3.6/dist-packages/keras/backend/tensorflow_backend.py:1033: The name tf.assign_add is deprecated. Please use tf.compat.v1.assign_add instead.\n",
      "\n",
      "WARNING:tensorflow:From /usr/local/lib/python3.6/dist-packages/keras/backend/tensorflow_backend.py:1020: The name tf.assign is deprecated. Please use tf.compat.v1.assign instead.\n",
      "\n",
      "WARNING:tensorflow:From /usr/local/lib/python3.6/dist-packages/keras/backend/tensorflow_backend.py:3005: The name tf.Session is deprecated. Please use tf.compat.v1.Session instead.\n",
      "\n",
      "Epoch 1/125\n",
      "WARNING:tensorflow:From /usr/local/lib/python3.6/dist-packages/keras/backend/tensorflow_backend.py:190: The name tf.get_default_session is deprecated. Please use tf.compat.v1.get_default_session instead.\n",
      "\n",
      "WARNING:tensorflow:From /usr/local/lib/python3.6/dist-packages/keras/backend/tensorflow_backend.py:197: The name tf.ConfigProto is deprecated. Please use tf.compat.v1.ConfigProto instead.\n",
      "\n",
      "WARNING:tensorflow:From /usr/local/lib/python3.6/dist-packages/keras/backend/tensorflow_backend.py:207: The name tf.global_variables is deprecated. Please use tf.compat.v1.global_variables instead.\n",
      "\n",
      "WARNING:tensorflow:From /usr/local/lib/python3.6/dist-packages/keras/backend/tensorflow_backend.py:216: The name tf.is_variable_initialized is deprecated. Please use tf.compat.v1.is_variable_initialized instead.\n",
      "\n",
      "WARNING:tensorflow:From /usr/local/lib/python3.6/dist-packages/keras/backend/tensorflow_backend.py:223: The name tf.variables_initializer is deprecated. Please use tf.compat.v1.variables_initializer instead.\n",
      "\n",
      "1198/1198 [==============================] - 9s 8ms/step - loss: 0.0609\n",
      "Epoch 2/125\n",
      "1198/1198 [==============================] - 6s 5ms/step - loss: 0.0056\n",
      "Epoch 3/125\n",
      "1198/1198 [==============================] - 6s 5ms/step - loss: 0.0049\n",
      "Epoch 4/125\n",
      "1198/1198 [==============================] - 6s 5ms/step - loss: 0.0048\n",
      "Epoch 5/125\n",
      "1198/1198 [==============================] - 6s 5ms/step - loss: 0.0040\n",
      "Epoch 6/125\n",
      "1198/1198 [==============================] - 6s 5ms/step - loss: 0.0043\n",
      "Epoch 7/125\n",
      "1198/1198 [==============================] - 6s 5ms/step - loss: 0.0042\n",
      "Epoch 8/125\n",
      "1198/1198 [==============================] - 6s 5ms/step - loss: 0.0040\n",
      "Epoch 9/125\n",
      "1198/1198 [==============================] - 6s 5ms/step - loss: 0.0040\n",
      "Epoch 10/125\n",
      "1198/1198 [==============================] - 7s 5ms/step - loss: 0.0034\n",
      "Epoch 11/125\n",
      "1198/1198 [==============================] - 6s 5ms/step - loss: 0.0033\n",
      "Epoch 12/125\n",
      "1198/1198 [==============================] - 6s 5ms/step - loss: 0.0039\n",
      "Epoch 13/125\n",
      "1198/1198 [==============================] - 6s 5ms/step - loss: 0.0034\n",
      "Epoch 14/125\n",
      "1198/1198 [==============================] - 6s 5ms/step - loss: 0.0030\n",
      "Epoch 15/125\n",
      "1198/1198 [==============================] - 6s 5ms/step - loss: 0.0031\n",
      "Epoch 16/125\n",
      "1198/1198 [==============================] - 6s 5ms/step - loss: 0.0033\n",
      "Epoch 17/125\n",
      "1198/1198 [==============================] - 6s 5ms/step - loss: 0.0031\n",
      "Epoch 18/125\n",
      "1198/1198 [==============================] - 6s 5ms/step - loss: 0.0031\n",
      "Epoch 19/125\n",
      "1198/1198 [==============================] - 6s 5ms/step - loss: 0.0033\n",
      "Epoch 20/125\n",
      "1198/1198 [==============================] - 6s 5ms/step - loss: 0.0031\n",
      "Epoch 21/125\n",
      "1198/1198 [==============================] - 6s 5ms/step - loss: 0.0029\n",
      "Epoch 22/125\n",
      "1198/1198 [==============================] - 6s 5ms/step - loss: 0.0031\n",
      "Epoch 23/125\n",
      "1198/1198 [==============================] - 6s 5ms/step - loss: 0.0032\n",
      "Epoch 24/125\n",
      "1198/1198 [==============================] - 6s 5ms/step - loss: 0.0029\n",
      "Epoch 25/125\n",
      "1198/1198 [==============================] - 6s 5ms/step - loss: 0.0029\n",
      "Epoch 26/125\n",
      "1198/1198 [==============================] - 6s 5ms/step - loss: 0.0026\n",
      "Epoch 27/125\n",
      "1198/1198 [==============================] - 6s 5ms/step - loss: 0.0026\n",
      "Epoch 28/125\n",
      "1198/1198 [==============================] - 6s 5ms/step - loss: 0.0029\n",
      "Epoch 29/125\n",
      "1198/1198 [==============================] - 6s 5ms/step - loss: 0.0028\n",
      "Epoch 30/125\n",
      "1198/1198 [==============================] - 6s 5ms/step - loss: 0.0029\n",
      "Epoch 31/125\n",
      "1198/1198 [==============================] - 6s 5ms/step - loss: 0.0034\n",
      "Epoch 32/125\n",
      "1198/1198 [==============================] - 6s 5ms/step - loss: 0.0029\n",
      "Epoch 33/125\n",
      "1198/1198 [==============================] - 6s 5ms/step - loss: 0.0026\n",
      "Epoch 34/125\n",
      "1198/1198 [==============================] - 6s 5ms/step - loss: 0.0028\n",
      "Epoch 35/125\n",
      "1198/1198 [==============================] - 6s 5ms/step - loss: 0.0026\n",
      "Epoch 36/125\n",
      "1198/1198 [==============================] - 6s 5ms/step - loss: 0.0024\n",
      "Epoch 37/125\n",
      "1198/1198 [==============================] - 6s 5ms/step - loss: 0.0026\n",
      "Epoch 38/125\n",
      "1198/1198 [==============================] - 6s 5ms/step - loss: 0.0024\n",
      "Epoch 39/125\n",
      "1198/1198 [==============================] - 6s 5ms/step - loss: 0.0021\n",
      "Epoch 40/125\n",
      "1198/1198 [==============================] - 6s 5ms/step - loss: 0.0021\n",
      "Epoch 41/125\n",
      "1198/1198 [==============================] - 6s 5ms/step - loss: 0.0023\n",
      "Epoch 42/125\n",
      "1198/1198 [==============================] - 6s 5ms/step - loss: 0.0022\n",
      "Epoch 43/125\n",
      "1198/1198 [==============================] - 6s 5ms/step - loss: 0.0022\n",
      "Epoch 44/125\n",
      "1198/1198 [==============================] - 6s 5ms/step - loss: 0.0025\n",
      "Epoch 45/125\n",
      "1198/1198 [==============================] - 6s 5ms/step - loss: 0.0022\n",
      "Epoch 46/125\n",
      "1198/1198 [==============================] - 6s 5ms/step - loss: 0.0023\n",
      "Epoch 47/125\n",
      "1198/1198 [==============================] - 6s 5ms/step - loss: 0.0023\n",
      "Epoch 48/125\n",
      "1198/1198 [==============================] - 6s 5ms/step - loss: 0.0022\n",
      "Epoch 49/125\n",
      "1198/1198 [==============================] - 6s 5ms/step - loss: 0.0023\n",
      "Epoch 50/125\n",
      "1198/1198 [==============================] - 6s 5ms/step - loss: 0.0022\n",
      "Epoch 51/125\n",
      "1198/1198 [==============================] - 6s 5ms/step - loss: 0.0021\n",
      "Epoch 52/125\n",
      "1198/1198 [==============================] - 6s 5ms/step - loss: 0.0023\n",
      "Epoch 53/125\n",
      "1198/1198 [==============================] - 6s 5ms/step - loss: 0.0021\n",
      "Epoch 54/125\n",
      "1198/1198 [==============================] - 6s 5ms/step - loss: 0.0020\n",
      "Epoch 55/125\n",
      "1198/1198 [==============================] - 6s 5ms/step - loss: 0.0021\n",
      "Epoch 56/125\n",
      "1198/1198 [==============================] - 6s 5ms/step - loss: 0.0023\n",
      "Epoch 57/125\n",
      "1198/1198 [==============================] - 6s 5ms/step - loss: 0.0022\n",
      "Epoch 58/125\n",
      "1198/1198 [==============================] - 6s 5ms/step - loss: 0.0020\n",
      "Epoch 59/125\n",
      "1198/1198 [==============================] - 6s 5ms/step - loss: 0.0019\n",
      "Epoch 60/125\n",
      "1198/1198 [==============================] - 6s 5ms/step - loss: 0.0019\n",
      "Epoch 61/125\n",
      "1198/1198 [==============================] - 6s 5ms/step - loss: 0.0019\n",
      "Epoch 62/125\n",
      "1198/1198 [==============================] - 6s 5ms/step - loss: 0.0020\n",
      "Epoch 63/125\n",
      "1198/1198 [==============================] - 6s 5ms/step - loss: 0.0017\n",
      "Epoch 64/125\n",
      "1198/1198 [==============================] - 6s 5ms/step - loss: 0.0019\n",
      "Epoch 65/125\n",
      "1198/1198 [==============================] - 6s 5ms/step - loss: 0.0018\n",
      "Epoch 66/125\n",
      "1198/1198 [==============================] - 6s 5ms/step - loss: 0.0020\n",
      "Epoch 67/125\n",
      "1198/1198 [==============================] - 6s 5ms/step - loss: 0.0019\n",
      "Epoch 68/125\n",
      "1198/1198 [==============================] - 6s 5ms/step - loss: 0.0019\n",
      "Epoch 69/125\n",
      "1198/1198 [==============================] - 6s 5ms/step - loss: 0.0021\n",
      "Epoch 70/125\n",
      "1198/1198 [==============================] - 6s 5ms/step - loss: 0.0017\n",
      "Epoch 71/125\n",
      "1198/1198 [==============================] - 6s 5ms/step - loss: 0.0018\n",
      "Epoch 72/125\n",
      "1198/1198 [==============================] - 6s 5ms/step - loss: 0.0018\n",
      "Epoch 73/125\n",
      "1198/1198 [==============================] - 6s 5ms/step - loss: 0.0017\n",
      "Epoch 74/125\n",
      "1198/1198 [==============================] - 6s 5ms/step - loss: 0.0018\n",
      "Epoch 75/125\n",
      "1198/1198 [==============================] - 6s 5ms/step - loss: 0.0016\n",
      "Epoch 76/125\n",
      "1198/1198 [==============================] - 6s 5ms/step - loss: 0.0018\n",
      "Epoch 77/125\n",
      "1198/1198 [==============================] - 6s 5ms/step - loss: 0.0017\n",
      "Epoch 78/125\n",
      "1198/1198 [==============================] - 6s 5ms/step - loss: 0.0017\n",
      "Epoch 79/125\n",
      "1198/1198 [==============================] - 6s 5ms/step - loss: 0.0017\n",
      "Epoch 80/125\n",
      "1198/1198 [==============================] - 6s 5ms/step - loss: 0.0015\n",
      "Epoch 81/125\n",
      "1198/1198 [==============================] - 6s 5ms/step - loss: 0.0015\n",
      "Epoch 82/125\n",
      "1198/1198 [==============================] - 6s 5ms/step - loss: 0.0017\n",
      "Epoch 83/125\n",
      "1198/1198 [==============================] - 6s 5ms/step - loss: 0.0014\n",
      "Epoch 84/125\n",
      "1198/1198 [==============================] - 6s 5ms/step - loss: 0.0016\n",
      "Epoch 85/125\n",
      "1198/1198 [==============================] - 6s 5ms/step - loss: 0.0016\n",
      "Epoch 86/125\n",
      "1198/1198 [==============================] - 6s 5ms/step - loss: 0.0015\n",
      "Epoch 87/125\n",
      "1198/1198 [==============================] - 6s 5ms/step - loss: 0.0013\n",
      "Epoch 88/125\n",
      "1198/1198 [==============================] - 6s 5ms/step - loss: 0.0014\n",
      "Epoch 89/125\n",
      "1198/1198 [==============================] - 6s 5ms/step - loss: 0.0014\n",
      "Epoch 90/125\n",
      "1198/1198 [==============================] - 6s 5ms/step - loss: 0.0013\n",
      "Epoch 91/125\n",
      "1198/1198 [==============================] - 6s 5ms/step - loss: 0.0015\n",
      "Epoch 92/125\n",
      "1198/1198 [==============================] - 6s 5ms/step - loss: 0.0014\n",
      "Epoch 93/125\n",
      "1198/1198 [==============================] - 6s 5ms/step - loss: 0.0013\n",
      "Epoch 94/125\n",
      "1198/1198 [==============================] - 6s 5ms/step - loss: 0.0014\n",
      "Epoch 95/125\n",
      "1198/1198 [==============================] - 6s 5ms/step - loss: 0.0015\n",
      "Epoch 96/125\n",
      "1198/1198 [==============================] - 6s 5ms/step - loss: 0.0014\n",
      "Epoch 97/125\n",
      "1198/1198 [==============================] - 6s 5ms/step - loss: 0.0014\n",
      "Epoch 98/125\n",
      "1198/1198 [==============================] - 6s 5ms/step - loss: 0.0014\n",
      "Epoch 99/125\n",
      "1198/1198 [==============================] - 6s 5ms/step - loss: 0.0014\n",
      "Epoch 100/125\n",
      "1198/1198 [==============================] - 6s 5ms/step - loss: 0.0014\n",
      "Epoch 101/125\n",
      "1198/1198 [==============================] - 6s 5ms/step - loss: 0.0013\n",
      "Epoch 102/125\n",
      "1198/1198 [==============================] - 6s 5ms/step - loss: 0.0015\n",
      "Epoch 103/125\n",
      "1198/1198 [==============================] - 6s 5ms/step - loss: 0.0014\n",
      "Epoch 104/125\n",
      "1198/1198 [==============================] - 6s 5ms/step - loss: 0.0013\n",
      "Epoch 105/125\n",
      "1198/1198 [==============================] - 6s 5ms/step - loss: 0.0013\n",
      "Epoch 106/125\n",
      "1198/1198 [==============================] - 6s 5ms/step - loss: 0.0014\n",
      "Epoch 107/125\n",
      "1198/1198 [==============================] - 6s 5ms/step - loss: 0.0013\n",
      "Epoch 108/125\n",
      "1198/1198 [==============================] - 6s 5ms/step - loss: 0.0012\n",
      "Epoch 109/125\n",
      "1198/1198 [==============================] - 6s 5ms/step - loss: 0.0013\n",
      "Epoch 110/125\n",
      "1198/1198 [==============================] - 6s 5ms/step - loss: 0.0013\n",
      "Epoch 111/125\n",
      "1198/1198 [==============================] - 6s 5ms/step - loss: 0.0012\n",
      "Epoch 112/125\n",
      "1198/1198 [==============================] - 6s 5ms/step - loss: 0.0011\n",
      "Epoch 113/125\n",
      "1198/1198 [==============================] - 6s 5ms/step - loss: 0.0012\n",
      "Epoch 114/125\n",
      "1198/1198 [==============================] - 6s 5ms/step - loss: 0.0013\n",
      "Epoch 115/125\n",
      "1198/1198 [==============================] - 6s 5ms/step - loss: 0.0012\n",
      "Epoch 116/125\n",
      "1198/1198 [==============================] - 6s 5ms/step - loss: 0.0011\n",
      "Epoch 117/125\n",
      "1198/1198 [==============================] - 6s 5ms/step - loss: 0.0013\n",
      "Epoch 118/125\n",
      "1198/1198 [==============================] - 6s 5ms/step - loss: 0.0012\n",
      "Epoch 119/125\n",
      "1198/1198 [==============================] - 6s 5ms/step - loss: 0.0012\n",
      "Epoch 120/125\n",
      "1198/1198 [==============================] - 6s 5ms/step - loss: 0.0013\n",
      "Epoch 121/125\n",
      "1198/1198 [==============================] - 6s 5ms/step - loss: 0.0013\n",
      "Epoch 122/125\n",
      "1198/1198 [==============================] - 6s 5ms/step - loss: 0.0012\n",
      "Epoch 123/125\n",
      "1198/1198 [==============================] - 6s 5ms/step - loss: 0.0012\n",
      "Epoch 124/125\n",
      "1198/1198 [==============================] - 6s 5ms/step - loss: 0.0012\n",
      "Epoch 125/125\n",
      "1198/1198 [==============================] - 6s 5ms/step - loss: 0.0012\n"
     ]
    },
    {
     "data": {
      "text/plain": [
       "<keras.callbacks.History at 0x7f36336250f0>"
      ]
     },
     "execution_count": 21,
     "metadata": {
      "tags": []
     },
     "output_type": "execute_result"
    }
   ],
   "source": [
    "# Building the RNN Algorithm\n",
    "# Initalizing the RNN\n",
    "\n",
    "from keras.models import Sequential\n",
    "rnn=Sequential()\n",
    "# Adding First LSTM layer and some percentage of dropout regularisation\n",
    "\n",
    "from keras.layers import LSTM\n",
    "from keras.layers import Dropout\n",
    "# units= No.of LSMT's in each layer.\n",
    "# return_sequence= Return the backpropagation is True\n",
    "# input_shape=input layer values\n",
    "rnn.add(LSTM(units=50,return_sequences=True,input_shape=(x_train.shape[1],1)))\n",
    "# p=0.2 20% of nodes will randomly disabled to prevent overfitting in training set\n",
    "rnn.add(Dropout(p=0.2))\n",
    "\n",
    "# Second LSTM layer and Dropout Regularisation\n",
    "rnn.add(LSTM(units=50,return_sequences=True))\n",
    "rnn.add(Dropout(p=0.2))\n",
    "\n",
    "# Third LSTM layer and Dropout Regularisation\n",
    "# return_sequencs=True is not required because this layer connected with output layer back propagation will done automatically\n",
    "rnn.add(LSTM(units=50))\n",
    "rnn.add(Dropout(p=0.2))\n",
    "\n",
    "# Output Layer For LSTM\n",
    "\n",
    "from keras.layers import Dense\n",
    "rnn.add(Dense(units=1))\n",
    "\n",
    "# Compile the LSTM RNN Algorithm\n",
    "# adam algorithm is technique of stochastic gradient descent class\n",
    "rnn.compile(optimizer='adam',loss='mean_squared_error')\n",
    "\n",
    "# Fit the RNN Algorithm To Training Set\n",
    "rnn.fit(x_train,y_train,batch_size=32,epochs=125)"
   ]
  },
  {
   "cell_type": "code",
   "execution_count": 0,
   "metadata": {
    "colab": {},
    "colab_type": "code",
    "id": "qD1VilHInMj1"
   },
   "outputs": [],
   "source": [
    "# We got 0.0012 loss value for Google Stock Price Training set"
   ]
  },
  {
   "cell_type": "code",
   "execution_count": 27,
   "metadata": {
    "colab": {
     "base_uri": "https://localhost:8080/",
     "height": 364
    },
    "colab_type": "code",
    "id": "nT3r_ZWinYiY",
    "outputId": "53bc8e15-ac59-4629-c658-cdc9d4a2980a"
   },
   "outputs": [
    {
     "name": "stdout",
     "output_type": "stream",
     "text": [
      "[[784.9555 ]\n",
      " [781.66064]\n",
      " [783.57855]\n",
      " [786.3967 ]\n",
      " [790.7081 ]\n",
      " [797.69824]\n",
      " [803.1313 ]\n",
      " [803.79083]\n",
      " [802.9804 ]\n",
      " [802.9814 ]\n",
      " [803.6717 ]\n",
      " [803.8396 ]\n",
      " [803.3433 ]\n",
      " [803.58704]\n",
      " [804.4316 ]\n",
      " [810.7528 ]\n",
      " [819.5664 ]\n",
      " [827.62195]\n",
      " [829.9304 ]\n",
      " [821.24817]]\n"
     ]
    }
   ],
   "source": [
    "# Predicting the accuracy for test set\n",
    "\n",
    "# Importing the Google Stock Price Test Data\n",
    "dataset_test=pd.read_csv('/content/sample_data/Google_Stock_Price_Test.csv')\n",
    "real_stock_price=dataset_test.iloc[:,1:2].values\n",
    "\n",
    "# Concat with training and test set data because on each test set data we need to 60 timesteps to get t+1 first values from predict\n",
    "# axis=0 means it will add concat to vertical values if it is 1 then concat will happen horizontal\n",
    "dataset_total=pd.concat((dataset['Open'],dataset_test['Open']),axis=0)\n",
    "\n",
    "# We need to find before 60 data values to predict first jan value in 2017.\n",
    "inputs=dataset_total[len(dataset_total)-len(dataset_test)-60:,].values\n",
    "\n",
    "# We have only 1D Array we need make it as 2D by using reshape -1 to 1\n",
    "inputs=inputs.reshape(-1,1)\n",
    "\n",
    "#Rescale the Google Stock Price Test data\n",
    "inputs=sc.transform(inputs)\n",
    "\n",
    "x_test=[]\n",
    "for i in range(60,80):\n",
    "  x_test.append(inputs[i-60:i,])\n",
    "# converting numpy vector to numpy array\n",
    "x_test=np.array(x_test)\n",
    "\n",
    "# Reshape the x_test from 2d to 3d\n",
    "x_test=np.reshape(x_test,(x_test.shape[0],x_test.shape[1],1))\n",
    "\n",
    "# Now Predicting The Google Stock Price Test Data\n",
    "predicted_real_stock_price=rnn.predict(x_test)\n",
    "\n",
    "# Applying inverse transform to get actual values\n",
    "predicted_real_stock_price=sc.inverse_transform(predicted_real_stock_price)\n",
    "\n",
    "print(predicted_real_stock_price)"
   ]
  },
  {
   "cell_type": "code",
   "execution_count": 28,
   "metadata": {
    "colab": {
     "base_uri": "https://localhost:8080/",
     "height": 295
    },
    "colab_type": "code",
    "id": "AIbz8j7rrYe-",
    "outputId": "a1fce2ac-d696-4127-d7f1-8ebb7888ffd1"
   },
   "outputs": [
    {
     "data": {
      "image/png": "[encoded data removed]",
      "text/plain": [
       "<Figure size 432x288 with 1 Axes>"
      ]
     },
     "metadata": {
      "tags": []
     },
     "output_type": "display_data"
    }
   ],
   "source": [
    "# Visualising the real stock price to predicted stock price\n",
    "\n",
    "import matplotlib.pyplot as plt\n",
    "plt.plot(real_stock_price,color='red',label='Real Stock Price')\n",
    "plt.plot(predicted_real_stock_price,color='blue',label='Predicted Stock Price')\n",
    "plt.title('Predicted Google Stock Price')\n",
    "plt.xlabel('Time')\n",
    "plt.ylabel('Google Stock Price')\n",
    "plt.legend()\n",
    "plt.show()"
   ]
  }
 ],
 "metadata": {
  "colab": {
   "collapsed_sections": [],
   "name": "Copy of Welcome To Colaboratory",
   "provenance": []
  },
  "kernelspec": {
   "display_name": "Python 2",
   "language": "python",
   "name": "python2"
  },
  "language_info": {
   "codemirror_mode": {
    "name": "ipython",
    "version": 2
   },
   "file_extension": ".py",
   "mimetype": "text/x-python",
   "name": "python",
   "nbconvert_exporter": "python",
   "pygments_lexer": "ipython2",
   "version": "2.7.16"
  }
 },
 "nbformat": 4,
 "nbformat_minor": 1
}
